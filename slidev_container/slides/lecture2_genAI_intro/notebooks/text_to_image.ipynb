{
 "cells": [
  {
   "cell_type": "markdown",
   "id": "d71bce70-9dc3-448b-9f9a-8896e83b6d09",
   "metadata": {},
   "source": [
    "# Running a Text-to-image model\n",
    "\n"
   ]
  },
  {
   "cell_type": "markdown",
   "id": "46930f8f",
   "metadata": {},
   "source": [
    "This <a href=\"https://huggingface.co/Corcelio/mobius\">one</a> looks pretty good!\n",
    "\n",
    "\n",
    "<img src=\"https://cdn-lfs-us-1.huggingface.co/repos/fd/fb/fdfb29f2c251b1438fc6d684014653c26f4ee2a857c9ca895e61e748f3f02625/a194fcd638116545766ecf85ce5295557a84e8071fe7aae1187c2d2a33248a9f?response-content-disposition=inline%3B+filename*%3DUTF-8%27%27mystery.png%3B+filename%3D%22mystery.png%22%3B&response-content-type=image%2Fpng&Expires=1718335158&Policy=eyJTdGF0ZW1lbnQiOlt7IkNvbmRpdGlvbiI6eyJEYXRlTGVzc1RoYW4iOnsiQVdTOkVwb2NoVGltZSI6MTcxODMzNTE1OH19LCJSZXNvdXJjZSI6Imh0dHBzOi8vY2RuLWxmcy11cy0xLmh1Z2dpbmdmYWNlLmNvL3JlcG9zL2ZkL2ZiL2ZkZmIyOWYyYzI1MWIxNDM4ZmM2ZDY4NDAxNDY1M2MyNmY0ZWUyYTg1N2M5Y2E4OTVlNjFlNzQ4ZjNmMDI2MjUvYTE5NGZjZDYzODExNjU0NTc2NmVjZjg1Y2U1Mjk1NTU3YTg0ZTgwNzFmZTdhYWUxMTg3YzJkMmEzMzI0OGE5Zj9yZXNwb25zZS1jb250ZW50LWRpc3Bvc2l0aW9uPSomcmVzcG9uc2UtY29udGVudC10eXBlPSoifV19&Signature=mLNmmuK2ndsxL9cZCDMVyjggpv-m2ryNmXMqzgYL0np3galJfuapeXHVTZbuDDE26TOCuXWn7aXZ0fomeGEgupGo53IeBifdIwddXggLf5Tumi6%7E16GbVVj0x0BCOZgiHBcLGWVsgqx0BQNhqrHrUrY604t3GoPxJhMOL7D8P%7EDMvkDl2ihFtqOztZ%7Ej1UOmppbgt-EJ%7EqEwt7QDfdLeKUpvBsX86liVx%7EagrXpHS8ImeaAjo-6IozpWjQ-Bew0D-IAn8C-IYGrcH30lY8-UpU9hHUCTUKESE6M97G7u5wul6-FTXxz323kljWPvocKUtmz4tNESc1s%7EXZzGEGvmjw__&Key-Pair-Id=KCD77M1F0VK2B\" width=\"700px\">"
   ]
  },
  {
   "cell_type": "markdown",
   "id": "3393cc3c",
   "metadata": {},
   "source": [
    "<a target=\"_blank\" href=\"https://colab.research.google.com/github/mikeboensel/AI_Course/blob/main/slides/lecture2_genAI_intro/notebooks/text_to_image.ipynb\">\n",
    "  <img src=\"https://colab.research.google.com/assets/colab-badge.svg\" alt=\"Open In Colab\"/>\n",
    "</a>"
   ]
  },
  {
   "cell_type": "markdown",
   "id": "e5b48fc7-4f46-4d5a-8558-cd06892aaa27",
   "metadata": {},
   "source": [
    "## 1) Installing Libraries"
   ]
  },
  {
   "cell_type": "code",
   "execution_count": 2,
   "id": "1ea7b3b8-9092-4b37-8b7f-57362be611ad",
   "metadata": {},
   "outputs": [],
   "source": [
    "!pip install torch diffusers"
   ]
  },
  {
   "cell_type": "markdown",
   "id": "b9549676-2fa5-41a7-bbb9-ce03f5797c34",
   "metadata": {},
   "source": [
    "## 2) Setting up the Model"
   ]
  },
  {
   "cell_type": "code",
   "execution_count": 5,
   "id": "f609024c-3eae-4ad5-8cb8-b95b403b7606",
   "metadata": {},
   "outputs": [],
   "source": [
    "import torch\n",
    "from diffusers import (\n",
    "    StableDiffusionXLPipeline, \n",
    "    KDPM2AncestralDiscreteScheduler,\n",
    "    AutoencoderKL\n",
    ")\n",
    "\n",
    "# Load VAE component\n",
    "vae = AutoencoderKL.from_pretrained(\n",
    "    \"madebyollin/sdxl-vae-fp16-fix\", \n",
    "    torch_dtype=torch.float16\n",
    ")\n",
    "\n",
    "# Configure the pipeline\n",
    "pipe = StableDiffusionXLPipeline.from_pretrained(\n",
    "    \"Corcelio/mobius\", \n",
    "    vae=vae,\n",
    "    torch_dtype=torch.float16\n",
    ")\n",
    "\n",
    "pipe.scheduler = KDPM2AncestralDiscreteScheduler.from_config(pipe.scheduler.config)\n",
    "pipe.to('cuda')\n",
    "\n",
    "generator = torch.Generator(\"cuda\")\n",
    "generator.manual_seed(1337)"
   ]
  },
  {
   "cell_type": "markdown",
   "id": "bb0d5821-7c8d-46b5-9e7d-02e72cac2acc",
   "metadata": {},
   "source": [
    "## 3) Creating Images"
   ]
  },
  {
   "cell_type": "code",
   "execution_count": null,
   "id": "acec54c1",
   "metadata": {},
   "outputs": [],
   "source": [
    "\n",
    "\n",
    "# Define prompts and generate image\n",
    "prompt = \"movie scene screencap, cinematic footage. thanos smelling a little yellow rose. extreme wide angle,\"\n",
    "negative_prompt = \"\"\n",
    "\n",
    "image = pipe(\n",
    "    prompt, \n",
    "    negative_prompt=negative_prompt, \n",
    "    width=512,\n",
    "    height=512,\n",
    "    guidance_scale=7,\n",
    "    num_inference_steps=20,\n",
    "    clip_skip=3,\n",
    "    generator=generator\n",
    ").images[0]\n",
    "\n",
    "image"
   ]
  }
 ],
 "metadata": {
  "kernelspec": {
   "display_name": "Python 3 (ipykernel)",
   "language": "python",
   "name": "python3"
  },
  "language_info": {
   "codemirror_mode": {
    "name": "ipython",
    "version": 3
   },
   "file_extension": ".py",
   "mimetype": "text/x-python",
   "name": "python",
   "nbconvert_exporter": "python",
   "pygments_lexer": "ipython3",
   "version": "3.9.15"
  }
 },
 "nbformat": 4,
 "nbformat_minor": 5
}
