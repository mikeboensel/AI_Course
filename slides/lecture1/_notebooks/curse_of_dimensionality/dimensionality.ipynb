{
 "cells": [
  {
   "cell_type": "code",
   "execution_count": null,
   "metadata": {},
   "outputs": [],
   "source": [
    "import numpy as np\n",
    "\n",
    "def distance_between_vectors(a, b):\n",
    "    return np.linalg.norm(a - b)\n",
    "\n",
    "\n",
    "results = []\n",
    "max_dims = 400\n",
    "num_of_trials = 20\n",
    "scale= 5\n",
    "for dim in range(max_dims):\n",
    "    result = 0\n",
    "    for i in range(num_of_trials):\n",
    "        vector1 = np.random.rand(dim) * scale\n",
    "        vector2 = np.random.rand(dim) * scale\n",
    "        result += abs(distance_between_vectors(vector1, vector2))\n",
    "\n",
    "    results.append(result/20)\n",
    "\n",
    "print(results)"
   ]
  },
  {
   "cell_type": "code",
   "execution_count": null,
   "metadata": {},
   "outputs": [],
   "source": [
    "import matplotlib.pyplot as plt\n",
    "\n",
    "plt.plot(results)\n",
    "plt.xlabel('Dimensions')\n",
    "plt.ylabel('Average Distance')\n",
    "plt.title('Average Distance vs Dimensions')\n",
    "plt.show()"
   ]
  }
 ],
 "metadata": {
  "kernelspec": {
   "display_name": "Python 3",
   "language": "python",
   "name": "python3"
  },
  "language_info": {
   "codemirror_mode": {
    "name": "ipython",
    "version": 3
   },
   "file_extension": ".py",
   "mimetype": "text/x-python",
   "name": "python",
   "nbconvert_exporter": "python",
   "pygments_lexer": "ipython3",
   "version": "3.8.8"
  },
  "toc": {
   "nav_menu": {},
   "number_sections": true,
   "sideBar": true,
   "skip_h1_title": false,
   "title_cell": "Table of Contents",
   "title_sidebar": "Contents",
   "toc_cell": false,
   "toc_position": {},
   "toc_section_display": true,
   "toc_window_display": false
  }
 },
 "nbformat": 4,
 "nbformat_minor": 4
}
