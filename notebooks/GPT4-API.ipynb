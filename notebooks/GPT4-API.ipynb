{
  "cells": [
    {
      "cell_type": "markdown",
      "metadata": {
        "colab_type": "text",
        "id": "view-in-github"
      },
      "source": [
        "<a href=\"https://colab.research.google.com/github/jonkrohn/NLP-with-LLMs/blob/main/code/GPT4-API.ipynb\" target=\"_parent\"><img src=\"https://colab.research.google.com/assets/colab-badge.svg\" alt=\"Open In Colab\"/></a>"
      ]
    },
    {
      "cell_type": "markdown",
      "metadata": {
        "id": "prVML98XnLhF"
      },
      "source": [
        "# GPT-4 API\n",
        "https://github.com/jonkrohn/NLP-with-LLMs/blob/main/code/\n",
        "\n",
        "In this notebook (using code from [this blog post](https://medium.com/codingthesmartway-com-blog/unlocking-the-power-of-gpt-4-api-a-beginners-guide-for-developers-a4baef2b5a81)), we chat with GPT-4 via the OpenAI API.\n",
        "\n",
        "You may need to:\n",
        "* [Join the GPT-4 waitlist](https://openai.com/waitlist/gpt-4-api)\n",
        "* [Create your API key](https://platform.openai.com/account/api-keys)"
      ]
    },
    {
      "cell_type": "markdown",
      "metadata": {
        "id": "blkPf_jKwrcv"
      },
      "source": [
        "### Load dependencies"
      ]
    },
    {
      "cell_type": "code",
      "execution_count": null,
      "metadata": {
        "id": "gyPuepHVjdrQ"
      },
      "outputs": [],
      "source": [
        "import requests\n",
        "import json"
      ]
    },
    {
      "cell_type": "markdown",
      "metadata": {
        "id": "uVKnKeAhwvk8"
      },
      "source": [
        "### Secret key\n",
        "\n",
        "You only need to use this section if you don't want to put your API key in your code."
      ]
    },
    {
      "cell_type": "code",
      "execution_count": null,
      "metadata": {
        "id": "S2J5uIK_uMKq"
      },
      "outputs": [],
      "source": [
        "import getpass"
      ]
    },
    {
      "cell_type": "code",
      "execution_count": null,
      "metadata": {
        "id": "vHWXQcJmuOO3"
      },
      "outputs": [],
      "source": [
        "from getpass import getpass"
      ]
    },
    {
      "cell_type": "code",
      "execution_count": null,
      "metadata": {
        "colab": {
          "base_uri": "https://localhost:8080/"
        },
        "id": "KQRNzxQzuTUK",
        "outputId": "f9de833f-16a6-4f05-b0ab-51daac947403"
      },
      "outputs": [
        {
          "name": "stdout",
          "output_type": "stream",
          "text": [
            "Enter OpenAI API key:··········\n"
          ]
        }
      ],
      "source": [
        "secret_key = getpass('Enter OpenAI API key:')"
      ]
    },
    {
      "cell_type": "markdown",
      "metadata": {
        "id": "PPS35grmxB-9"
      },
      "source": [
        "### Create chat function"
      ]
    },
    {
      "cell_type": "code",
      "execution_count": null,
      "metadata": {
        "id": "DS5AmN9KiGGL"
      },
      "outputs": [],
      "source": [
        "API_ENDPOINT = \"https://api.openai.com/v1/chat/completions\"\n",
        "API_KEY = secret_key\n",
        "## Alternatively, you can hard code your API key:\n",
        "# API_KEY = \"<YOUR-KEY-HERE>\""
      ]
    },
    {
      "cell_type": "code",
      "execution_count": null,
      "metadata": {
        "id": "nQ9z1ZgTjhyT"
      },
      "outputs": [],
      "source": [
        "def generate_chat_completion(messages, \n",
        "                             model=\"gpt-4\", # use \"gpt-3.5-turbo\" no GPT-4 access\n",
        "                             temperature=1, # controls randomness; higher = more random; range = 0-5\n",
        "                             max_tokens=None):\n",
        "\n",
        "    headers = {\n",
        "        \"Content-Type\": \"application/json\",\n",
        "        \"Authorization\": f\"Bearer {API_KEY}\",\n",
        "    }\n",
        "\n",
        "    data = {\n",
        "        \"model\": model,\n",
        "        \"messages\": messages,\n",
        "        \"temperature\": temperature,\n",
        "    }\n",
        "\n",
        "    if max_tokens is not None:\n",
        "        data[\"max_tokens\"] = max_tokens\n",
        "\n",
        "    response = requests.post(API_ENDPOINT, headers=headers, data=json.dumps(data))\n",
        "\n",
        "    if response.status_code == 200: # 200 = request OK!\n",
        "        return response.json()[\"choices\"][0][\"message\"][\"content\"]\n",
        "    else:\n",
        "        raise Exception(f\"Error {response.status_code}: {response.text}\")"
      ]
    },
    {
      "cell_type": "markdown",
      "metadata": {
        "id": "3h9W5a3jxLZb"
      },
      "source": [
        "### Generate chat completion"
      ]
    },
    {
      "cell_type": "code",
      "execution_count": null,
      "metadata": {
        "id": "X6qKtSpIjpk9"
      },
      "outputs": [],
      "source": [
        "messages = [\n",
        "    {\"role\": \"system\", \"content\": \"You are a helpful assistant.\"}, # optional but helps set behavior\n",
        "    {\"role\": \"user\", \"content\": \"Write a sentence about Jon Krohn where every word begins with the next letter of the alphabet, starting with the letter A.\"}\n",
        "]"
      ]
    },
    {
      "cell_type": "code",
      "execution_count": null,
      "metadata": {
        "colab": {
          "base_uri": "https://localhost:8080/",
          "height": 71
        },
        "id": "MWEWxNWSjuo7",
        "outputId": "f0329c7c-c6a5-40bf-a0e2-4a0bd1c5bf69"
      },
      "outputs": [
        {
          "data": {
            "application/vnd.google.colaboratory.intrinsic+json": {
              "type": "string"
            },
            "text/plain": [
              "'Achieving basic comprehension, Dr. Krohn educates folks genuinely, helping individuals just keenly learn machine neuroscience - obviously, presenting quality robotics studies, teaching unique visions while x-raying yonder zettabytes.'"
            ]
          },
          "execution_count": 9,
          "metadata": {},
          "output_type": "execute_result"
        }
      ],
      "source": [
        "generate_chat_completion(messages)"
      ]
    }
  ],
  "metadata": {
    "colab": {
      "authorship_tag": "ABX9TyM98anHa6rngZK0yW6LwFao",
      "include_colab_link": true,
      "provenance": []
    },
    "kernelspec": {
      "display_name": "Python 3",
      "name": "python3"
    },
    "language_info": {
      "name": "python"
    }
  },
  "nbformat": 4,
  "nbformat_minor": 0
}
